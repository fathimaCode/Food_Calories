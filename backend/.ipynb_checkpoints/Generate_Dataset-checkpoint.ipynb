{
 "cells": [
  {
   "cell_type": "code",
   "execution_count": 1,
   "id": "833f7434",
   "metadata": {},
   "outputs": [
    {
     "name": "stdout",
     "output_type": "stream",
     "text": [
      "   age  Weight (kg)  Height (cm)  Gender  calories\n",
      "0   54           94          193       1   2469.96\n",
      "1   57          115          151       1   2372.76\n",
      "2   74          118          134       1   2140.56\n",
      "3   77          103          161       0   2385.00\n",
      "4   77           38          167       1   1263.96\n"
     ]
    }
   ],
   "source": [
    "import numpy as np\n",
    "import pandas as pd\n",
    "\n",
    "np.random.seed(0)\n",
    "num_samples =1000\n",
    "\n",
    "age = np.random.randint(10,100,size=num_samples)\n",
    "weight = np.random.randint(30,150,size=num_samples)\n",
    "height = np.random.randint(130,200,size=num_samples)\n",
    "gender = np.random.choice([0,1],size=num_samples)\n",
    "\n",
    "activity_level = 1.2\n",
    "bmr_male = (10*weight)+(6.25*height)-(5*age)+5\n",
    "bmr_female = (10*weight)+(6.25*height)-(5*age)-161\n",
    "\n",
    "\n",
    "male_activity = bmr_male*activity_level\n",
    "female_activity = bmr_female*activity_level\n",
    "\n",
    "calories = np.where(gender==0,male_activity*1.2,female_activity*1.2)\n",
    "\n",
    "\n",
    "\n",
    "\n",
    "data = pd.DataFrame({\n",
    "    'age':age,\n",
    "    'Weight (kg)':weight,\n",
    "    'Height (cm)':height,\n",
    "    'Gender':gender,\n",
    "    'calories':calories\n",
    "})\n",
    "print(data.head())"
   ]
  },
  {
   "cell_type": "code",
   "execution_count": 2,
   "id": "2f69e481",
   "metadata": {},
   "outputs": [],
   "source": [
    "data.to_csv('food_calories.csv',index=False)"
   ]
  },
  {
   "cell_type": "code",
   "execution_count": null,
   "id": "adcd794b",
   "metadata": {},
   "outputs": [],
   "source": []
  }
 ],
 "metadata": {
  "kernelspec": {
   "display_name": "Python 3 (ipykernel)",
   "language": "python",
   "name": "python3"
  },
  "language_info": {
   "codemirror_mode": {
    "name": "ipython",
    "version": 3
   },
   "file_extension": ".py",
   "mimetype": "text/x-python",
   "name": "python",
   "nbconvert_exporter": "python",
   "pygments_lexer": "ipython3",
   "version": "3.11.5"
  }
 },
 "nbformat": 4,
 "nbformat_minor": 5
}
