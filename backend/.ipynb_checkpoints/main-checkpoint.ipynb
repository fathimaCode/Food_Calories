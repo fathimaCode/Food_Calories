{
 "cells": [
  {
   "cell_type": "code",
   "execution_count": 6,
   "id": "e69092d8",
   "metadata": {},
   "outputs": [
    {
     "name": "stdout",
     "output_type": "stream",
     "text": [
      "     age  Weight (kg)  Height (cm)  Gender  calories\n",
      "0     54           94          193       1   2469.96\n",
      "1     57          115          151       1   2372.76\n",
      "2     74          118          134       1   2140.56\n",
      "3     77          103          161       0   2385.00\n",
      "4     77           38          167       1   1263.96\n",
      "..   ...          ...          ...     ...       ...\n",
      "995   69          102          193       0   2716.20\n",
      "996   11          119          187       0   3324.60\n",
      "997   28           68          169       1   2066.76\n",
      "998   63           82          195       1   2250.36\n",
      "999   38          127          181       1   2952.36\n",
      "\n",
      "[1000 rows x 5 columns]\n"
     ]
    }
   ],
   "source": [
    "import pandas as pd\n",
    "from joblib import dump, load\n",
    "from sklearn.model_selection import train_test_split\n",
    "from xgboost import XGBRegressor\n",
    "calories_Data = pd.read_csv(\"food_calories.csv\")\n",
    "print(calories_Data)"
   ]
  },
  {
   "cell_type": "code",
   "execution_count": 7,
   "id": "ba9c1f8c",
   "metadata": {},
   "outputs": [
    {
     "name": "stdout",
     "output_type": "stream",
     "text": [
      "     age  Weight (kg)  Height (cm)  Gender\n",
      "0     54           94          193       1\n",
      "1     57          115          151       1\n",
      "2     74          118          134       1\n",
      "3     77          103          161       0\n",
      "4     77           38          167       1\n",
      "..   ...          ...          ...     ...\n",
      "995   69          102          193       0\n",
      "996   11          119          187       0\n",
      "997   28           68          169       1\n",
      "998   63           82          195       1\n",
      "999   38          127          181       1\n",
      "\n",
      "[1000 rows x 4 columns]\n"
     ]
    }
   ],
   "source": [
    "train = calories_Data.drop(['calories'],axis=1)\n",
    "test = calories_Data['calories']\n",
    "print(train)"
   ]
  },
  {
   "cell_type": "code",
   "execution_count": 8,
   "id": "f2a05849",
   "metadata": {},
   "outputs": [],
   "source": [
    "X_train,X_test,Y_train,Y_test = train_test_split(train,test,test_size=0.2,random_state=2)"
   ]
  },
  {
   "cell_type": "code",
   "execution_count": 9,
   "id": "b92e0aaa",
   "metadata": {},
   "outputs": [
    {
     "data": {
      "text/html": [
       "<style>#sk-container-id-2 {color: black;}#sk-container-id-2 pre{padding: 0;}#sk-container-id-2 div.sk-toggleable {background-color: white;}#sk-container-id-2 label.sk-toggleable__label {cursor: pointer;display: block;width: 100%;margin-bottom: 0;padding: 0.3em;box-sizing: border-box;text-align: center;}#sk-container-id-2 label.sk-toggleable__label-arrow:before {content: \"▸\";float: left;margin-right: 0.25em;color: #696969;}#sk-container-id-2 label.sk-toggleable__label-arrow:hover:before {color: black;}#sk-container-id-2 div.sk-estimator:hover label.sk-toggleable__label-arrow:before {color: black;}#sk-container-id-2 div.sk-toggleable__content {max-height: 0;max-width: 0;overflow: hidden;text-align: left;background-color: #f0f8ff;}#sk-container-id-2 div.sk-toggleable__content pre {margin: 0.2em;color: black;border-radius: 0.25em;background-color: #f0f8ff;}#sk-container-id-2 input.sk-toggleable__control:checked~div.sk-toggleable__content {max-height: 200px;max-width: 100%;overflow: auto;}#sk-container-id-2 input.sk-toggleable__control:checked~label.sk-toggleable__label-arrow:before {content: \"▾\";}#sk-container-id-2 div.sk-estimator input.sk-toggleable__control:checked~label.sk-toggleable__label {background-color: #d4ebff;}#sk-container-id-2 div.sk-label input.sk-toggleable__control:checked~label.sk-toggleable__label {background-color: #d4ebff;}#sk-container-id-2 input.sk-hidden--visually {border: 0;clip: rect(1px 1px 1px 1px);clip: rect(1px, 1px, 1px, 1px);height: 1px;margin: -1px;overflow: hidden;padding: 0;position: absolute;width: 1px;}#sk-container-id-2 div.sk-estimator {font-family: monospace;background-color: #f0f8ff;border: 1px dotted black;border-radius: 0.25em;box-sizing: border-box;margin-bottom: 0.5em;}#sk-container-id-2 div.sk-estimator:hover {background-color: #d4ebff;}#sk-container-id-2 div.sk-parallel-item::after {content: \"\";width: 100%;border-bottom: 1px solid gray;flex-grow: 1;}#sk-container-id-2 div.sk-label:hover label.sk-toggleable__label {background-color: #d4ebff;}#sk-container-id-2 div.sk-serial::before {content: \"\";position: absolute;border-left: 1px solid gray;box-sizing: border-box;top: 0;bottom: 0;left: 50%;z-index: 0;}#sk-container-id-2 div.sk-serial {display: flex;flex-direction: column;align-items: center;background-color: white;padding-right: 0.2em;padding-left: 0.2em;position: relative;}#sk-container-id-2 div.sk-item {position: relative;z-index: 1;}#sk-container-id-2 div.sk-parallel {display: flex;align-items: stretch;justify-content: center;background-color: white;position: relative;}#sk-container-id-2 div.sk-item::before, #sk-container-id-2 div.sk-parallel-item::before {content: \"\";position: absolute;border-left: 1px solid gray;box-sizing: border-box;top: 0;bottom: 0;left: 50%;z-index: -1;}#sk-container-id-2 div.sk-parallel-item {display: flex;flex-direction: column;z-index: 1;position: relative;background-color: white;}#sk-container-id-2 div.sk-parallel-item:first-child::after {align-self: flex-end;width: 50%;}#sk-container-id-2 div.sk-parallel-item:last-child::after {align-self: flex-start;width: 50%;}#sk-container-id-2 div.sk-parallel-item:only-child::after {width: 0;}#sk-container-id-2 div.sk-dashed-wrapped {border: 1px dashed gray;margin: 0 0.4em 0.5em 0.4em;box-sizing: border-box;padding-bottom: 0.4em;background-color: white;}#sk-container-id-2 div.sk-label label {font-family: monospace;font-weight: bold;display: inline-block;line-height: 1.2em;}#sk-container-id-2 div.sk-label-container {text-align: center;}#sk-container-id-2 div.sk-container {/* jupyter's `normalize.less` sets `[hidden] { display: none; }` but bootstrap.min.css set `[hidden] { display: none !important; }` so we also need the `!important` here to be able to override the default hidden behavior on the sphinx rendered scikit-learn.org. See: https://github.com/scikit-learn/scikit-learn/issues/21755 */display: inline-block !important;position: relative;}#sk-container-id-2 div.sk-text-repr-fallback {display: none;}</style><div id=\"sk-container-id-2\" class=\"sk-top-container\"><div class=\"sk-text-repr-fallback\"><pre>XGBRegressor(base_score=None, booster=None, callbacks=None,\n",
       "             colsample_bylevel=None, colsample_bynode=None,\n",
       "             colsample_bytree=None, device=None, early_stopping_rounds=None,\n",
       "             enable_categorical=False, eval_metric=None, feature_types=None,\n",
       "             gamma=None, grow_policy=None, importance_type=None,\n",
       "             interaction_constraints=None, learning_rate=None, max_bin=None,\n",
       "             max_cat_threshold=None, max_cat_to_onehot=None,\n",
       "             max_delta_step=None, max_depth=None, max_leaves=None,\n",
       "             min_child_weight=None, missing=nan, monotone_constraints=None,\n",
       "             multi_strategy=None, n_estimators=None, n_jobs=None,\n",
       "             num_parallel_tree=None, random_state=None, ...)</pre><b>In a Jupyter environment, please rerun this cell to show the HTML representation or trust the notebook. <br />On GitHub, the HTML representation is unable to render, please try loading this page with nbviewer.org.</b></div><div class=\"sk-container\" hidden><div class=\"sk-item\"><div class=\"sk-estimator sk-toggleable\"><input class=\"sk-toggleable__control sk-hidden--visually\" id=\"sk-estimator-id-2\" type=\"checkbox\" checked><label for=\"sk-estimator-id-2\" class=\"sk-toggleable__label sk-toggleable__label-arrow\">XGBRegressor</label><div class=\"sk-toggleable__content\"><pre>XGBRegressor(base_score=None, booster=None, callbacks=None,\n",
       "             colsample_bylevel=None, colsample_bynode=None,\n",
       "             colsample_bytree=None, device=None, early_stopping_rounds=None,\n",
       "             enable_categorical=False, eval_metric=None, feature_types=None,\n",
       "             gamma=None, grow_policy=None, importance_type=None,\n",
       "             interaction_constraints=None, learning_rate=None, max_bin=None,\n",
       "             max_cat_threshold=None, max_cat_to_onehot=None,\n",
       "             max_delta_step=None, max_depth=None, max_leaves=None,\n",
       "             min_child_weight=None, missing=nan, monotone_constraints=None,\n",
       "             multi_strategy=None, n_estimators=None, n_jobs=None,\n",
       "             num_parallel_tree=None, random_state=None, ...)</pre></div></div></div></div></div>"
      ],
      "text/plain": [
       "XGBRegressor(base_score=None, booster=None, callbacks=None,\n",
       "             colsample_bylevel=None, colsample_bynode=None,\n",
       "             colsample_bytree=None, device=None, early_stopping_rounds=None,\n",
       "             enable_categorical=False, eval_metric=None, feature_types=None,\n",
       "             gamma=None, grow_policy=None, importance_type=None,\n",
       "             interaction_constraints=None, learning_rate=None, max_bin=None,\n",
       "             max_cat_threshold=None, max_cat_to_onehot=None,\n",
       "             max_delta_step=None, max_depth=None, max_leaves=None,\n",
       "             min_child_weight=None, missing=nan, monotone_constraints=None,\n",
       "             multi_strategy=None, n_estimators=None, n_jobs=None,\n",
       "             num_parallel_tree=None, random_state=None, ...)"
      ]
     },
     "execution_count": 9,
     "metadata": {},
     "output_type": "execute_result"
    }
   ],
   "source": [
    "model = XGBRegressor()\n",
    "model.fit(X_train,Y_train)"
   ]
  },
  {
   "cell_type": "code",
   "execution_count": 12,
   "id": "4a823abd",
   "metadata": {},
   "outputs": [
    {
     "name": "stdout",
     "output_type": "stream",
     "text": [
      "[2244.5557  1693.3286  1284.3251  2930.1829  2002.2249  1551.746\n",
      " 2549.733   2699.2014  1836.7152  2446.2341  2145.9216  2355.6199\n",
      " 3046.1707  2313.2368  1744.3789  1823.1396  1449.2246  2290.3943\n",
      " 1725.033   2799.4587  2678.311   2577.2146  2105.1162  2106.6294\n",
      " 2043.3489  2621.2847  1564.3375  3173.8022  1440.92    1863.4712\n",
      " 3259.5437  2716.7424  1392.1343  1861.0702  1204.8191  1610.4653\n",
      " 2256.9666  1919.886   1930.8544  1320.4515  1124.2665  2450.1104\n",
      " 2660.284   1161.4515  1603.8293  3371.3696  2159.8782  1568.0172\n",
      " 1508.4996  2013.5917  2655.617   2466.5884  1850.6058  2627.7173\n",
      " 2240.8916  1982.1241  1904.7313  1901.5709  3493.521   2354.2935\n",
      " 2575.522   1479.4221  2533.4985  2086.9653  2679.603   2600.8918\n",
      " 1997.1699  1861.4344  2302.4512  1349.0094  2920.5437  3013.2004\n",
      " 1829.7515  1880.412   3269.6213  2147.8752  2388.74    3355.8452\n",
      " 1837.9773  1886.458   2212.736   2159.853   2158.734   2351.584\n",
      " 1943.7426  2194.6863  2025.5592  2558.2522  2395.7114  3095.8167\n",
      " 1957.9004  1388.2781  2305.057   1837.3384  2957.939    935.77374\n",
      " 2588.257   2976.309   3482.0261  2784.2075  1489.5228  2723.685\n",
      " 1986.5759  2131.4739  2129.262   2072.2883  3299.7314  2043.8362\n",
      " 2170.8096  2963.4048  3307.8345  1838.1061  2862.2769  1099.4055\n",
      " 2447.3054  3396.4207  1548.89    2637.8206  1585.3219  2739.7908\n",
      " 2827.211   3083.0427  1472.44    3240.6965  1703.8014  1615.9153\n",
      " 1973.738   2686.6165  2375.3726  1759.8557  1799.7089  2153.6343\n",
      " 1692.212   2202.271   2852.781   3055.0134  2555.5134  2851.818\n",
      " 2824.2095  2013.965   2169.003   2909.179   2403.71    1519.0883\n",
      " 1824.0084  2716.0833  2743.679   2275.2654  1827.5597  2180.4087\n",
      " 1648.5868  2761.2485  3535.6772  2760.3083  2237.2178  2868.8228\n",
      " 1952.3309  2711.9263  2422.0947  2813.7231  2495.924   2414.8557\n",
      " 1296.5665  1706.5532  2796.3665  2056.1084  2219.0762  3211.9668\n",
      " 1721.6151  1719.7242  3329.057   2899.5298  2153.6614  2397.4062\n",
      " 2453.676   2374.9858  2466.5752  2167.6082  2690.4648  2397.9722\n",
      " 2528.8408  2966.9116  2483.6018  2385.1807  3071.9407  2568.6206\n",
      " 2014.7126  1340.2825  2445.0884  2392.7515  2502.3506  1435.1508\n",
      " 3131.2925  1406.1134  1303.0863  1811.4181  1718.1683  2285.3054\n",
      " 2651.1133  2372.9707 ]\n"
     ]
    },
    {
     "data": {
      "text/plain": [
       "['xgboost_calories_model.joblib']"
      ]
     },
     "execution_count": 12,
     "metadata": {},
     "output_type": "execute_result"
    }
   ],
   "source": [
    "result= model.predict(X_test)\n",
    "print(result)\n",
    "dump(model, 'xgboost_calories_model.joblib')"
   ]
  },
  {
   "cell_type": "code",
   "execution_count": 11,
   "id": "a83b806e",
   "metadata": {},
   "outputs": [
    {
     "name": "stdout",
     "output_type": "stream",
     "text": [
      "Mean Absolute Error =  50.856220251464855\n"
     ]
    }
   ],
   "source": [
    "from sklearn import metrics\n",
    "MAE = metrics.mean_absolute_error(Y_test, result)\n",
    "print(\"Mean Absolute Error = \",MAE)"
   ]
  },
  {
   "cell_type": "code",
   "execution_count": 13,
   "id": "fbe05c19",
   "metadata": {},
   "outputs": [],
   "source": [
    "import numpy as np\n",
    "\n",
    "\n"
   ]
  },
  {
   "cell_type": "code",
   "execution_count": 14,
   "id": "a2a7929d",
   "metadata": {},
   "outputs": [
    {
     "name": "stdout",
     "output_type": "stream",
     "text": [
      "[2271.2742]\n"
     ]
    }
   ],
   "source": [
    "loaded_model = load('xgboost_calories_model.joblib')\n",
    "input_value = np.array([40,78,160,0]).reshape(1, -1)\n",
    "out_calories = loaded_model.predict(input_value)\n",
    "print(out_calories)"
   ]
  },
  {
   "cell_type": "code",
   "execution_count": null,
   "id": "eda1bb8d",
   "metadata": {},
   "outputs": [],
   "source": []
  }
 ],
 "metadata": {
  "kernelspec": {
   "display_name": "Python 3 (ipykernel)",
   "language": "python",
   "name": "python3"
  },
  "language_info": {
   "codemirror_mode": {
    "name": "ipython",
    "version": 3
   },
   "file_extension": ".py",
   "mimetype": "text/x-python",
   "name": "python",
   "nbconvert_exporter": "python",
   "pygments_lexer": "ipython3",
   "version": "3.11.5"
  }
 },
 "nbformat": 4,
 "nbformat_minor": 5
}
